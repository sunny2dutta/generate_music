{
 "cells": [
  {
   "cell_type": "code",
   "execution_count": 1,
   "id": "c47291ad",
   "metadata": {},
   "outputs": [],
   "source": [
    "import tensorflow as tf\n"
   ]
  },
  {
   "cell_type": "code",
   "execution_count": 2,
   "id": "7fec947c",
   "metadata": {},
   "outputs": [],
   "source": [
    "class MyRNNCell(tf.keras.layers.Layer):\n",
    "    def __init__(self,input_dim,rnn_units,output_dim):\n",
    "        super(MyDenseLayer,self).__init__()\n",
    "        \n",
    "        self.Wxh = self.add_weights([rnn_units,input_dim])\n",
    "        self.Whh = self.add_weights([rnn_units,rnn_units])\n",
    "        self.Why = self.add_weights([output_dim,rnn_units])\n",
    "\n",
    "\n",
    "        self.h = tf.zeros([rnn_units,1])\n",
    "        \n",
    "        \n",
    "    def call(self,x):\n",
    "        self.h = tf.math.tanh(tf.matmult(self.Wxh,x) + tf.matmult(self.Whh,self.h))\n",
    "        output = tf.matmult(self.Why,self.h)\n",
    "        \n",
    "        return output,self.h\n"
   ]
  },
  {
   "cell_type": "code",
   "execution_count": 5,
   "id": "4e08b4be",
   "metadata": {},
   "outputs": [],
   "source": [
    "model = tf.keras.layers.SimpleRNN(units=5)"
   ]
  },
  {
   "cell_type": "code",
   "execution_count": 6,
   "id": "e22407e6",
   "metadata": {},
   "outputs": [],
   "source": [
    "model = tf.keras.layers.LSTM(units=5)"
   ]
  },
  {
   "cell_type": "code",
   "execution_count": null,
   "id": "913c179e",
   "metadata": {},
   "outputs": [],
   "source": []
  }
 ],
 "metadata": {
  "kernelspec": {
   "display_name": "Python 3 (ipykernel)",
   "language": "python",
   "name": "python3"
  },
  "language_info": {
   "codemirror_mode": {
    "name": "ipython",
    "version": 3
   },
   "file_extension": ".py",
   "mimetype": "text/x-python",
   "name": "python",
   "nbconvert_exporter": "python",
   "pygments_lexer": "ipython3",
   "version": "3.9.6"
  }
 },
 "nbformat": 4,
 "nbformat_minor": 5
}
