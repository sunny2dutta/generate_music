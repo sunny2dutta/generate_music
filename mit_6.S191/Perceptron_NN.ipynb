{
 "cells": [
  {
   "cell_type": "code",
   "execution_count": 13,
   "id": "6199516f",
   "metadata": {},
   "outputs": [],
   "source": [
    "import tensorflow as tf\n",
    "input_dim = 3\n",
    "output_dim = 5"
   ]
  },
  {
   "cell_type": "code",
   "execution_count": 10,
   "id": "93ed3e59",
   "metadata": {},
   "outputs": [],
   "source": [
    "class MyDenseLayer(tf.keras.layers.Layer):\n",
    "    def __init__(self,input_dim,output_dim):\n",
    "        super(MyDenseLayer,self).__init__()\n",
    "        \n",
    "        self.W = self.add_weights([input_dim,output_dim])\n",
    "        self.b = self.bias([1,output_dim])\n",
    "        \n",
    "        \n",
    "    def call(self,inputs):\n",
    "        z = tf.matmult(inputs,self.W) + self.b\n",
    "        output = tf.sigmoid(z)\n",
    "        \n",
    "        return output\n"
   ]
  },
  {
   "cell_type": "code",
   "execution_count": 20,
   "id": "d2547fe7",
   "metadata": {},
   "outputs": [],
   "source": [
    "model = tf.keras.Sequential([tf.keras.layers.Dense(input_dim),\n",
    "                            tf.keras.layers.Dense(3),\n",
    "                            tf.keras.layers.Dropout(rate=.2), \n",
    "                            tf.keras.layers.Dense(output_dim)])\n",
    "optimizer = tf.keras.optimizers.legacy.RMSprop()\n",
    "\n"
   ]
  },
  {
   "cell_type": "code",
   "execution_count": null,
   "id": "551c00f6",
   "metadata": {},
   "outputs": [],
   "source": []
  }
 ],
 "metadata": {
  "kernelspec": {
   "display_name": "Python 3 (ipykernel)",
   "language": "python",
   "name": "python3"
  },
  "language_info": {
   "codemirror_mode": {
    "name": "ipython",
    "version": 3
   },
   "file_extension": ".py",
   "mimetype": "text/x-python",
   "name": "python",
   "nbconvert_exporter": "python",
   "pygments_lexer": "ipython3",
   "version": "3.9.6"
  }
 },
 "nbformat": 4,
 "nbformat_minor": 5
}
