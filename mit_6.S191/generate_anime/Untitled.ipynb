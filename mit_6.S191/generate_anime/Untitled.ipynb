{
 "cells": [
  {
   "cell_type": "code",
   "execution_count": 12,
   "id": "7b6c0c14",
   "metadata": {},
   "outputs": [],
   "source": [
    "import cv2\n",
    "import os\n",
    "\n",
    "\n",
    "def convert_to_grayscale_dir(source_dir, file_name):\n",
    "    \"\"\"\n",
    "    Convert RGB image to grayscale, when given an directory and filename\n",
    "    \"\"\"\n",
    "\n",
    "    source_file = os.path.join(source_dir, file_name)\n",
    "    gray_image = cv2.cvtColor(source_file, cv2.COLOR_BGR2GRAY)\n",
    "    return gray_image\n",
    "\n",
    "def convert_to_grayscale_dir(source_dir,destination_dir):\n",
    "    \"\"\"\n",
    "    Convert all RGB image in input path to output directory\n",
    "    \"\"\"\n",
    "\n",
    "    if not os.path.exists(destination_dir):\n",
    "            os.makedirs(destination_dir)\n",
    "\n",
    "    file_list = os.listdir(source_dir)\n",
    "\n",
    "    for file_name in file_list:\n",
    "        # Get the full path of the source file\n",
    "        source_file = os.path.join(source_dir, file_name)\n",
    "        clr_image = cv2.imread(source_file)\n",
    "        # Get the full path of the destination file\n",
    "        file_name_gray = file_name +'_gray'\n",
    "        gray_image = cv2.cvtColor(clr_image, cv2.COLOR_BGR2GRAY)\n",
    "\n",
    "        destination_file = os.path.join(destination_dir, file_name_gray)\n",
    "        cv2.imwrite(destination_file,gray_image)\n",
    "\n",
    "\n",
    "\n",
    "    return 0\n",
    "\n",
    "\n",
    "\n",
    "\n",
    "\n",
    "\n"
   ]
  },
  {
   "cell_type": "code",
   "execution_count": 13,
   "id": "89f0b0d7",
   "metadata": {},
   "outputs": [
    {
     "data": {
      "text/plain": [
       "0"
      ]
     },
     "execution_count": 13,
     "metadata": {},
     "output_type": "execute_result"
    }
   ],
   "source": [
    "source_dir = '/Users/debaryadutta/learn_dl/mit_6.S191/data_anime'\n",
    "\n",
    "destination_dir = '/Users/debaryadutta/learn_dl/mit_6.S191/data_anime_gray'\n",
    "\n",
    "convert_to_grayscale_dir(source_dir,destination_dir)"
   ]
  },
  {
   "cell_type": "code",
   "execution_count": 8,
   "id": "3e58d345",
   "metadata": {},
   "outputs": [
    {
     "name": "stderr",
     "output_type": "stream",
     "text": [
      "[ WARN:0@398.392] global loadsave.cpp:244 findDecoder imread_('Users/debaryadutta/learn_dl/mit_6.S191/data_anime/4426_2003.jpg'): can't open/read file: check file path/integrity\n"
     ]
    },
    {
     "ename": "error",
     "evalue": "OpenCV(4.7.0) /Users/xperience/GHA-OCV-Python/_work/opencv-python/opencv-python/opencv/modules/imgproc/src/color.cpp:182: error: (-215:Assertion failed) !_src.empty() in function 'cvtColor'\n",
     "output_type": "error",
     "traceback": [
      "\u001b[0;31m---------------------------------------------------------------------------\u001b[0m",
      "\u001b[0;31merror\u001b[0m                                     Traceback (most recent call last)",
      "Cell \u001b[0;32mIn[8], line 1\u001b[0m\n\u001b[0;32m----> 1\u001b[0m \u001b[43mcv2\u001b[49m\u001b[38;5;241;43m.\u001b[39;49m\u001b[43mcvtColor\u001b[49m\u001b[43m(\u001b[49m\u001b[43mcv2\u001b[49m\u001b[38;5;241;43m.\u001b[39;49m\u001b[43mimread\u001b[49m\u001b[43m(\u001b[49m\u001b[38;5;124;43m'\u001b[39;49m\u001b[38;5;124;43mUsers/debaryadutta/learn_dl/mit_6.S191/data_anime/4426_2003.jpg\u001b[39;49m\u001b[38;5;124;43m'\u001b[39;49m\u001b[43m)\u001b[49m\u001b[43m,\u001b[49m\u001b[43m \u001b[49m\u001b[43mcv2\u001b[49m\u001b[38;5;241;43m.\u001b[39;49m\u001b[43mCOLOR_BGR2GRAY\u001b[49m\u001b[43m)\u001b[49m\n",
      "\u001b[0;31merror\u001b[0m: OpenCV(4.7.0) /Users/xperience/GHA-OCV-Python/_work/opencv-python/opencv-python/opencv/modules/imgproc/src/color.cpp:182: error: (-215:Assertion failed) !_src.empty() in function 'cvtColor'\n"
     ]
    }
   ],
   "source": [
    "cv2.cvtColor(cv2.imread('Users/debaryadutta/learn_dl/mit_6.S191/data_anime/4426_2003.jpg'), cv2.COLOR_BGR2GRAY)"
   ]
  },
  {
   "cell_type": "code",
   "execution_count": 10,
   "id": "2b96c95c",
   "metadata": {},
   "outputs": [],
   "source": [
    "clr_image = cv2.imread('/Users/debaryadutta/learn_dl/mit_6.S191/data_anime/4426_2003.jpg')"
   ]
  },
  {
   "cell_type": "code",
   "execution_count": 11,
   "id": "98c62575",
   "metadata": {},
   "outputs": [
    {
     "data": {
      "text/plain": [
       "array([[254, 253, 252, ..., 255, 254, 253],\n",
       "       [254, 252, 255, ..., 255, 254, 254],\n",
       "       [253, 255, 252, ..., 254, 255, 255],\n",
       "       ...,\n",
       "       [253, 181,  87, ..., 251, 253, 254],\n",
       "       [251, 202,  85, ..., 246, 254, 253],\n",
       "       [250, 213,  82, ..., 241, 253, 252]], dtype=uint8)"
      ]
     },
     "execution_count": 11,
     "metadata": {},
     "output_type": "execute_result"
    }
   ],
   "source": [
    "cv2.cvtColor(clr_image,cv2.COLOR_BGR2GRAY)"
   ]
  },
  {
   "cell_type": "code",
   "execution_count": null,
   "id": "0ae7fa23",
   "metadata": {},
   "outputs": [],
   "source": []
  }
 ],
 "metadata": {
  "kernelspec": {
   "display_name": "Python 3 (ipykernel)",
   "language": "python",
   "name": "python3"
  },
  "language_info": {
   "codemirror_mode": {
    "name": "ipython",
    "version": 3
   },
   "file_extension": ".py",
   "mimetype": "text/x-python",
   "name": "python",
   "nbconvert_exporter": "python",
   "pygments_lexer": "ipython3",
   "version": "3.9.6"
  }
 },
 "nbformat": 4,
 "nbformat_minor": 5
}
